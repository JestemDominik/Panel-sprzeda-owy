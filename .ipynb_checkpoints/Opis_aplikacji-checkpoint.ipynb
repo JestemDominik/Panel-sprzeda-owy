{
 "cells": [
  {
   "cell_type": "markdown",
   "id": "c7029b96-d4c1-4644-9d5f-1cb530b9a063",
   "metadata": {},
   "source": [
    "# Panel z analizą danych sprzedażowych"
   ]
  },
  {
   "cell_type": "markdown",
   "id": "6cef4381-43cf-4da1-95ab-f726df0187fc",
   "metadata": {},
   "source": [
    "## Specyfikacja Funkcjonalna"
   ]
  },
  {
   "cell_type": "markdown",
   "id": "8de91be5-d328-4919-94b0-38eaaf73fa5b",
   "metadata": {},
   "source": [
    "### 1. Typy używtkowników"
   ]
  },
  {
   "cell_type": "markdown",
   "id": "e6da567b-3f37-4010-ab76-a92e6201f094",
   "metadata": {},
   "source": [
    "#### Management (Kierownictwo)\n",
    "- Widok całkowitej sprzedaży (kraj, regiony, handlowcy)\n",
    "- Analizy trendów, porównań między okresami\n",
    "- Wskaźniki KPI: wzrost %, konwersje, udział regionów"
   ]
  },
  {
   "cell_type": "markdown",
   "id": "dae16924-a40d-4a5f-a519-26379c21be6c",
   "metadata": {},
   "source": [
    "#### Przedstawiciel handlowy\n",
    "- Własne wyniki sprzedaży\n",
    "- Porównanie do targetu\n",
    "- Podział na klientów\n",
    "- wykresy"
   ]
  },
  {
   "cell_type": "markdown",
   "id": "57392051-4943-4efa-a4e6-1b6b53f71f73",
   "metadata": {},
   "source": [
    "### 2. Dane wejściowe\n",
    "- Lista sprzedaży z google sheets (data, klient, kwota, handlowiec, region)\n",
    "- Dane użytkowników (login, rola, ewentualnie hasło lub token)"
   ]
  },
  {
   "cell_type": "markdown",
   "id": "b879f7df-c113-42ff-a156-e2b68b48398e",
   "metadata": {},
   "source": [
    "## 3. Funkcje aplikacji\n",
    "- Ekran logowania (prosty login → rola)\n",
    "- Widok zależny od roli\n",
    "- Dashboard (metryki, wykresy, tabele)\n",
    "- Odświeżanie danych na żądanie lub co X minut"
   ]
  },
  {
   "cell_type": "raw",
   "id": "3b762f61-eca6-4a06-b8ed-7a50f20ee773",
   "metadata": {},
   "source": [
    "┌────────────────────────┐\n",
    "│       Użytkownik       │\n",
    "└─────────┬──────────────┘\n",
    "          │\n",
    "          ▼\n",
    "┌────────────────────────┐\n",
    "│   Aplikacja Streamlit   │\n",
    "├────────────────────────┤\n",
    "│ - Ekran logowania       │\n",
    "│ - Routing po roli       │\n",
    "│ - UI z metrykami        │\n",
    "│ - Wykresy i tabele      │\n",
    "└─────────┬──────────────┘\n",
    "          │\n",
    "          ▼\n",
    "┌────────────────────────┐\n",
    "│  Moduł autoryzacji      │\n",
    "│  (prosty login lub      │\n",
    "│   token z Google Sheet) │\n",
    "└─────────┬──────────────┘\n",
    "          ▼\n",
    "┌────────────────────────┐\n",
    "│   Google Sheets API     │\n",
    "└─────────┬──────────────┘\n",
    "          ▼\n",
    "┌────────────────────────┐\n",
    "│  Baza danych w arkuszu  │\n",
    "│  - Sprzedaż             │\n",
    "│  - Użytkownicy          │\n",
    "└────────────────────────┘\n"
   ]
  },
  {
   "cell_type": "markdown",
   "id": "245af3bb-bbbc-4425-84ef-2c156e34b4db",
   "metadata": {},
   "source": [
    "## PLAN WDROŻENIA \n",
    "### Etap 1: Przygotowanie danych\n",
    " Stwórz 2 arkusze Google:\n",
    "\n",
    "sales_data: kolumny: data, kwota, klient, region, handlowiec\n",
    "\n",
    "users: kolumny: login, rola (manager, rep)\n",
    "\n",
    " Ustaw uprawnienia dostępu do arkuszy (może być publiczne \"do odczytu\", albo lepiej token)\n",
    "\n",
    "### Etap 2: Backend + Streamlit\n",
    " Zainstaluj zależności (patrz niżej)\n",
    "\n",
    " Połącz się z Google Sheets API (np. przez gspread)\n",
    "\n",
    " Stwórz ekran logowania i rozpoznawanie roli\n",
    "\n",
    " Zaprojektuj logikę routingu (menedżer vs handlowiec)\n",
    "\n",
    "### Etap 3: Frontend i logika dashboardu\n",
    " Dla managementu:\n",
    "\n",
    " KPI: suma sprzedaży, % wzrostu, region TOP\n",
    "\n",
    " Wykres liniowy (sprzedaż w czasie)\n",
    "\n",
    " Ranking handlowców\n",
    "\n",
    " Dla przedstawiciela:\n",
    "\n",
    " Własne wyniki\n",
    "\n",
    " Progres względem celu\n",
    "\n",
    " Historia sprzedaży (tabela)\n",
    "\n",
    "### Etap 4: Finalizacja\n",
    " Dodaj cache / aktualizację danych co X minut\n",
    "\n",
    " Upiększ interfejs (np. streamlit.components, plotly)\n",
    "\n",
    " (Opcjonalnie) Dodaj mechanizm wylogowania / sesji\n",
    "\n"
   ]
  },
  {
   "cell_type": "markdown",
   "id": "5dfc5d86-632e-4da9-a018-48a604d8023d",
   "metadata": {},
   "source": [
    "## Zależności"
   ]
  },
  {
   "cell_type": "markdown",
   "id": "3dd33c0d-a452-4ca5-bbb7-89c3f468dad9",
   "metadata": {},
   "source": [
    "- Streamlit\n",
    "- Streamlit-authenticator\n",
    "- Pandas\n",
    "- Seaborn\n",
    "- Plotly\n",
    "- "
   ]
  }
 ],
 "metadata": {
  "kernelspec": {
   "display_name": "Python 3 (ipykernel)",
   "language": "python",
   "name": "python3"
  },
  "language_info": {
   "codemirror_mode": {
    "name": "ipython",
    "version": 3
   },
   "file_extension": ".py",
   "mimetype": "text/x-python",
   "name": "python",
   "nbconvert_exporter": "python",
   "pygments_lexer": "ipython3",
   "version": "3.11.11"
  }
 },
 "nbformat": 4,
 "nbformat_minor": 5
}
